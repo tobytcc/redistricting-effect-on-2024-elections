{
 "cells": [
  {
   "cell_type": "markdown",
   "metadata": {},
   "source": [
    "*Known Issues - pls fix*\n",
    "- TODO: Sample size is small - need to duplicate transformed photos with data augmentation (prevent overfitting + better for transfer learning)"
   ]
  },
  {
   "cell_type": "code",
   "execution_count": 362,
   "metadata": {},
   "outputs": [],
   "source": [
    "import pandas as pd\n",
    "import numpy as np \n",
    "import matplotlib.pyplot as plt\n",
    "import seaborn as sns\n",
    "import geopandas as gpd\n",
    "\n",
    "import math"
   ]
  },
  {
   "cell_type": "markdown",
   "metadata": {},
   "source": [
    "## Step 1: Calculate efficiency gaps for previous statewide election returns - this will serve as our target feature."
   ]
  },
  {
   "cell_type": "markdown",
   "metadata": {},
   "source": [
    "This dataset contains information on election results for statewide representative elections. This dataset uses the democratic party as the centerpiece party; the resulting effiency gap metric can be directionally interpreted - positive values favor the democratic party, while negative values favor the conservative party (known as GOP party).\n",
    "\n",
    "Note: There are several reasons why congressional representative elections are used instead of presidential results:\n",
    "1. There are third-party candidates in presidential elections that often steal sizeable votes away from either major party\n",
    "2. Presidential election results by congressional district were not widely recorded until the 1970s ([MIT](https://dataverse.harvard.edu/dataset.xhtml?persistentId=doi:10.7910/DVN/42MVDX)).\n",
    "3. Congressional elections are less prone to \"strategic voting\", as congressional representatives (serving in the House of Representatives) directly represent the interest of the district."
   ]
  },
  {
   "cell_type": "code",
   "execution_count": 363,
   "metadata": {},
   "outputs": [
    {
     "data": {
      "text/plain": [
       "(15228, 8)"
      ]
     },
     "execution_count": 363,
     "metadata": {},
     "output_type": "execute_result"
    }
   ],
   "source": [
    "df = pd.read_csv(\"data\\congressional_election_results_post1948.csv\")\n",
    "\n",
    "df.shape"
   ]
  },
  {
   "cell_type": "code",
   "execution_count": 364,
   "metadata": {},
   "outputs": [],
   "source": [
    "# Remove erroneous districts - both sides have 0 votes\n",
    "df = df[~(df[\"Dem Votes\"] == df[\"GOP Votes\"])]\n",
    "\n",
    "# Remove 6 states with only 1 voting district - these states can't be gerrymandered\n",
    "single_district_states = [\"AK\", \"DE\", \"ND\", \"SD\", \"VT\", \"WY\"]\n",
    "df = df[~df[\"State\"].isin(single_district_states)]"
   ]
  },
  {
   "cell_type": "code",
   "execution_count": 365,
   "metadata": {},
   "outputs": [
    {
     "data": {
      "text/plain": [
       "(14991, 8)"
      ]
     },
     "execution_count": 365,
     "metadata": {},
     "output_type": "execute_result"
    }
   ],
   "source": [
    "df.shape"
   ]
  },
  {
   "cell_type": "code",
   "execution_count": 366,
   "metadata": {},
   "outputs": [
    {
     "data": {
      "text/html": [
       "<div>\n",
       "<style scoped>\n",
       "    .dataframe tbody tr th:only-of-type {\n",
       "        vertical-align: middle;\n",
       "    }\n",
       "\n",
       "    .dataframe tbody tr th {\n",
       "        vertical-align: top;\n",
       "    }\n",
       "\n",
       "    .dataframe thead th {\n",
       "        text-align: right;\n",
       "    }\n",
       "</style>\n",
       "<table border=\"1\" class=\"dataframe\">\n",
       "  <thead>\n",
       "    <tr style=\"text-align: right;\">\n",
       "      <th></th>\n",
       "      <th>State</th>\n",
       "      <th>Year</th>\n",
       "      <th>District</th>\n",
       "      <th>Dem Votes</th>\n",
       "      <th>GOP Votes</th>\n",
       "      <th>D Voteshare</th>\n",
       "      <th>Incumbent</th>\n",
       "      <th>Party</th>\n",
       "    </tr>\n",
       "  </thead>\n",
       "  <tbody>\n",
       "    <tr>\n",
       "      <th>0</th>\n",
       "      <td>AL</td>\n",
       "      <td>1948</td>\n",
       "      <td>1</td>\n",
       "      <td>19778</td>\n",
       "      <td>0</td>\n",
       "      <td>1.000000</td>\n",
       "      <td>1</td>\n",
       "      <td>D</td>\n",
       "    </tr>\n",
       "    <tr>\n",
       "      <th>1</th>\n",
       "      <td>AL</td>\n",
       "      <td>1948</td>\n",
       "      <td>2</td>\n",
       "      <td>21271</td>\n",
       "      <td>0</td>\n",
       "      <td>1.000000</td>\n",
       "      <td>1</td>\n",
       "      <td>D</td>\n",
       "    </tr>\n",
       "    <tr>\n",
       "      <th>2</th>\n",
       "      <td>AL</td>\n",
       "      <td>1948</td>\n",
       "      <td>3</td>\n",
       "      <td>16279</td>\n",
       "      <td>0</td>\n",
       "      <td>1.000000</td>\n",
       "      <td>1</td>\n",
       "      <td>D</td>\n",
       "    </tr>\n",
       "    <tr>\n",
       "      <th>3</th>\n",
       "      <td>AL</td>\n",
       "      <td>1948</td>\n",
       "      <td>4</td>\n",
       "      <td>17282</td>\n",
       "      <td>3054</td>\n",
       "      <td>0.849823</td>\n",
       "      <td>1</td>\n",
       "      <td>D</td>\n",
       "    </tr>\n",
       "    <tr>\n",
       "      <th>4</th>\n",
       "      <td>AL</td>\n",
       "      <td>1948</td>\n",
       "      <td>5</td>\n",
       "      <td>20548</td>\n",
       "      <td>0</td>\n",
       "      <td>1.000000</td>\n",
       "      <td>1</td>\n",
       "      <td>D</td>\n",
       "    </tr>\n",
       "  </tbody>\n",
       "</table>\n",
       "</div>"
      ],
      "text/plain": [
       "  State  Year  District  Dem Votes  GOP Votes  D Voteshare  Incumbent Party\n",
       "0    AL  1948         1      19778          0     1.000000          1     D\n",
       "1    AL  1948         2      21271          0     1.000000          1     D\n",
       "2    AL  1948         3      16279          0     1.000000          1     D\n",
       "3    AL  1948         4      17282       3054     0.849823          1     D\n",
       "4    AL  1948         5      20548          0     1.000000          1     D"
      ]
     },
     "execution_count": 366,
     "metadata": {},
     "output_type": "execute_result"
    }
   ],
   "source": [
    "df.head()"
   ]
  },
  {
   "cell_type": "code",
   "execution_count": 367,
   "metadata": {},
   "outputs": [],
   "source": [
    "df = df.drop(columns=\"Incumbent\")"
   ]
  },
  {
   "cell_type": "markdown",
   "metadata": {},
   "source": [
    "Creating efficiency gap metric (Methodology found [here](https://www.brennancenter.org/sites/default/files/legal-work/How_the_Efficiency_Gap_Standard_Works.pdf))\n",
    "\n",
    "The process is as follows:  \n",
    "1. Calculate \"net wasted votes\" for each district - the net amount wasted votes from each party (defined below/in README)\n",
    "2. Sum the net wasted votes across all districts in a state\n",
    "3. Divide net wasted votes by total votes"
   ]
  },
  {
   "cell_type": "code",
   "execution_count": 368,
   "metadata": {},
   "outputs": [],
   "source": [
    "df[\"total_votes\"] = df[\"Dem Votes\"] + df[\"GOP Votes\"]"
   ]
  },
  {
   "cell_type": "code",
   "execution_count": 369,
   "metadata": {},
   "outputs": [],
   "source": [
    "# Net wasted votes = (wasted votes by winning party - 50+1 majority) - all votes by losing party\n",
    "\n",
    "def net_wasted_votes(democrat_votes, gop_votes):\n",
    "\n",
    "    majority = math.floor((democrat_votes + gop_votes) / 2) + 1 # required votes for majority  \n",
    "\n",
    "    if democrat_votes >= gop_votes: \n",
    "        return (democrat_votes - majority) - gop_votes \n",
    "    else: \n",
    "        return -(gop_votes - majority) + democrat_votes \n",
    "        "
   ]
  },
  {
   "cell_type": "code",
   "execution_count": 370,
   "metadata": {},
   "outputs": [],
   "source": [
    "# Positive values indicate wasted votes for democrats, negative values indicate wasted votes for republicans\n",
    "\n",
    "df[\"net_wasted_votes\"] = df.apply(lambda x: net_wasted_votes(x[\"Dem Votes\"], x[\"GOP Votes\"]), axis=1)"
   ]
  },
  {
   "cell_type": "code",
   "execution_count": 371,
   "metadata": {},
   "outputs": [
    {
     "data": {
      "text/html": [
       "<div>\n",
       "<style scoped>\n",
       "    .dataframe tbody tr th:only-of-type {\n",
       "        vertical-align: middle;\n",
       "    }\n",
       "\n",
       "    .dataframe tbody tr th {\n",
       "        vertical-align: top;\n",
       "    }\n",
       "\n",
       "    .dataframe thead th {\n",
       "        text-align: right;\n",
       "    }\n",
       "</style>\n",
       "<table border=\"1\" class=\"dataframe\">\n",
       "  <thead>\n",
       "    <tr style=\"text-align: right;\">\n",
       "      <th></th>\n",
       "      <th>State</th>\n",
       "      <th>Year</th>\n",
       "      <th>District</th>\n",
       "      <th>Dem Votes</th>\n",
       "      <th>GOP Votes</th>\n",
       "      <th>D Voteshare</th>\n",
       "      <th>Party</th>\n",
       "      <th>total_votes</th>\n",
       "      <th>net_wasted_votes</th>\n",
       "    </tr>\n",
       "  </thead>\n",
       "  <tbody>\n",
       "    <tr>\n",
       "      <th>0</th>\n",
       "      <td>AL</td>\n",
       "      <td>1948</td>\n",
       "      <td>1</td>\n",
       "      <td>19778</td>\n",
       "      <td>0</td>\n",
       "      <td>1.000000</td>\n",
       "      <td>D</td>\n",
       "      <td>19778</td>\n",
       "      <td>9888</td>\n",
       "    </tr>\n",
       "    <tr>\n",
       "      <th>1</th>\n",
       "      <td>AL</td>\n",
       "      <td>1948</td>\n",
       "      <td>2</td>\n",
       "      <td>21271</td>\n",
       "      <td>0</td>\n",
       "      <td>1.000000</td>\n",
       "      <td>D</td>\n",
       "      <td>21271</td>\n",
       "      <td>10635</td>\n",
       "    </tr>\n",
       "    <tr>\n",
       "      <th>2</th>\n",
       "      <td>AL</td>\n",
       "      <td>1948</td>\n",
       "      <td>3</td>\n",
       "      <td>16279</td>\n",
       "      <td>0</td>\n",
       "      <td>1.000000</td>\n",
       "      <td>D</td>\n",
       "      <td>16279</td>\n",
       "      <td>8139</td>\n",
       "    </tr>\n",
       "    <tr>\n",
       "      <th>3</th>\n",
       "      <td>AL</td>\n",
       "      <td>1948</td>\n",
       "      <td>4</td>\n",
       "      <td>17282</td>\n",
       "      <td>3054</td>\n",
       "      <td>0.849823</td>\n",
       "      <td>D</td>\n",
       "      <td>20336</td>\n",
       "      <td>4059</td>\n",
       "    </tr>\n",
       "    <tr>\n",
       "      <th>4</th>\n",
       "      <td>AL</td>\n",
       "      <td>1948</td>\n",
       "      <td>5</td>\n",
       "      <td>20548</td>\n",
       "      <td>0</td>\n",
       "      <td>1.000000</td>\n",
       "      <td>D</td>\n",
       "      <td>20548</td>\n",
       "      <td>10273</td>\n",
       "    </tr>\n",
       "    <tr>\n",
       "      <th>5</th>\n",
       "      <td>AL</td>\n",
       "      <td>1948</td>\n",
       "      <td>6</td>\n",
       "      <td>13968</td>\n",
       "      <td>2994</td>\n",
       "      <td>0.823488</td>\n",
       "      <td>D</td>\n",
       "      <td>16962</td>\n",
       "      <td>2492</td>\n",
       "    </tr>\n",
       "    <tr>\n",
       "      <th>6</th>\n",
       "      <td>AL</td>\n",
       "      <td>1948</td>\n",
       "      <td>7</td>\n",
       "      <td>21552</td>\n",
       "      <td>0</td>\n",
       "      <td>1.000000</td>\n",
       "      <td>D</td>\n",
       "      <td>21552</td>\n",
       "      <td>10775</td>\n",
       "    </tr>\n",
       "    <tr>\n",
       "      <th>7</th>\n",
       "      <td>AL</td>\n",
       "      <td>1948</td>\n",
       "      <td>8</td>\n",
       "      <td>19060</td>\n",
       "      <td>2510</td>\n",
       "      <td>0.883635</td>\n",
       "      <td>D</td>\n",
       "      <td>21570</td>\n",
       "      <td>5764</td>\n",
       "    </tr>\n",
       "    <tr>\n",
       "      <th>8</th>\n",
       "      <td>AL</td>\n",
       "      <td>1948</td>\n",
       "      <td>9</td>\n",
       "      <td>33781</td>\n",
       "      <td>5006</td>\n",
       "      <td>0.870936</td>\n",
       "      <td>D</td>\n",
       "      <td>38787</td>\n",
       "      <td>9381</td>\n",
       "    </tr>\n",
       "    <tr>\n",
       "      <th>9</th>\n",
       "      <td>AZ</td>\n",
       "      <td>1948</td>\n",
       "      <td>1</td>\n",
       "      <td>42565</td>\n",
       "      <td>29864</td>\n",
       "      <td>0.587679</td>\n",
       "      <td>D</td>\n",
       "      <td>72429</td>\n",
       "      <td>-23514</td>\n",
       "    </tr>\n",
       "    <tr>\n",
       "      <th>10</th>\n",
       "      <td>AZ</td>\n",
       "      <td>1948</td>\n",
       "      <td>2</td>\n",
       "      <td>54066</td>\n",
       "      <td>30140</td>\n",
       "      <td>0.642068</td>\n",
       "      <td>D</td>\n",
       "      <td>84206</td>\n",
       "      <td>-18178</td>\n",
       "    </tr>\n",
       "    <tr>\n",
       "      <th>11</th>\n",
       "      <td>AR</td>\n",
       "      <td>1948</td>\n",
       "      <td>1</td>\n",
       "      <td>34676</td>\n",
       "      <td>0</td>\n",
       "      <td>1.000000</td>\n",
       "      <td>D</td>\n",
       "      <td>34676</td>\n",
       "      <td>17337</td>\n",
       "    </tr>\n",
       "    <tr>\n",
       "      <th>12</th>\n",
       "      <td>AR</td>\n",
       "      <td>1948</td>\n",
       "      <td>2</td>\n",
       "      <td>29922</td>\n",
       "      <td>0</td>\n",
       "      <td>1.000000</td>\n",
       "      <td>D</td>\n",
       "      <td>29922</td>\n",
       "      <td>14960</td>\n",
       "    </tr>\n",
       "    <tr>\n",
       "      <th>13</th>\n",
       "      <td>AR</td>\n",
       "      <td>1948</td>\n",
       "      <td>3</td>\n",
       "      <td>27278</td>\n",
       "      <td>0</td>\n",
       "      <td>1.000000</td>\n",
       "      <td>D</td>\n",
       "      <td>27278</td>\n",
       "      <td>13638</td>\n",
       "    </tr>\n",
       "    <tr>\n",
       "      <th>14</th>\n",
       "      <td>AR</td>\n",
       "      <td>1948</td>\n",
       "      <td>4</td>\n",
       "      <td>29338</td>\n",
       "      <td>0</td>\n",
       "      <td>1.000000</td>\n",
       "      <td>D</td>\n",
       "      <td>29338</td>\n",
       "      <td>14668</td>\n",
       "    </tr>\n",
       "    <tr>\n",
       "      <th>15</th>\n",
       "      <td>AR</td>\n",
       "      <td>1948</td>\n",
       "      <td>5</td>\n",
       "      <td>36440</td>\n",
       "      <td>0</td>\n",
       "      <td>1.000000</td>\n",
       "      <td>D</td>\n",
       "      <td>36440</td>\n",
       "      <td>18219</td>\n",
       "    </tr>\n",
       "    <tr>\n",
       "      <th>16</th>\n",
       "      <td>AR</td>\n",
       "      <td>1948</td>\n",
       "      <td>6</td>\n",
       "      <td>40291</td>\n",
       "      <td>0</td>\n",
       "      <td>1.000000</td>\n",
       "      <td>D</td>\n",
       "      <td>40291</td>\n",
       "      <td>20145</td>\n",
       "    </tr>\n",
       "    <tr>\n",
       "      <th>17</th>\n",
       "      <td>AR</td>\n",
       "      <td>1948</td>\n",
       "      <td>7</td>\n",
       "      <td>32982</td>\n",
       "      <td>0</td>\n",
       "      <td>1.000000</td>\n",
       "      <td>D</td>\n",
       "      <td>32982</td>\n",
       "      <td>16490</td>\n",
       "    </tr>\n",
       "    <tr>\n",
       "      <th>18</th>\n",
       "      <td>CA</td>\n",
       "      <td>1948</td>\n",
       "      <td>1</td>\n",
       "      <td>72584</td>\n",
       "      <td>85122</td>\n",
       "      <td>0.460249</td>\n",
       "      <td>R</td>\n",
       "      <td>157706</td>\n",
       "      <td>66316</td>\n",
       "    </tr>\n",
       "    <tr>\n",
       "      <th>19</th>\n",
       "      <td>CA</td>\n",
       "      <td>1948</td>\n",
       "      <td>2</td>\n",
       "      <td>78555</td>\n",
       "      <td>0</td>\n",
       "      <td>1.000000</td>\n",
       "      <td>D</td>\n",
       "      <td>78555</td>\n",
       "      <td>39277</td>\n",
       "    </tr>\n",
       "  </tbody>\n",
       "</table>\n",
       "</div>"
      ],
      "text/plain": [
       "   State  Year  District  Dem Votes  GOP Votes  D Voteshare Party  \\\n",
       "0     AL  1948         1      19778          0     1.000000     D   \n",
       "1     AL  1948         2      21271          0     1.000000     D   \n",
       "2     AL  1948         3      16279          0     1.000000     D   \n",
       "3     AL  1948         4      17282       3054     0.849823     D   \n",
       "4     AL  1948         5      20548          0     1.000000     D   \n",
       "5     AL  1948         6      13968       2994     0.823488     D   \n",
       "6     AL  1948         7      21552          0     1.000000     D   \n",
       "7     AL  1948         8      19060       2510     0.883635     D   \n",
       "8     AL  1948         9      33781       5006     0.870936     D   \n",
       "9     AZ  1948         1      42565      29864     0.587679     D   \n",
       "10    AZ  1948         2      54066      30140     0.642068     D   \n",
       "11    AR  1948         1      34676          0     1.000000     D   \n",
       "12    AR  1948         2      29922          0     1.000000     D   \n",
       "13    AR  1948         3      27278          0     1.000000     D   \n",
       "14    AR  1948         4      29338          0     1.000000     D   \n",
       "15    AR  1948         5      36440          0     1.000000     D   \n",
       "16    AR  1948         6      40291          0     1.000000     D   \n",
       "17    AR  1948         7      32982          0     1.000000     D   \n",
       "18    CA  1948         1      72584      85122     0.460249     R   \n",
       "19    CA  1948         2      78555          0     1.000000     D   \n",
       "\n",
       "    total_votes  net_wasted_votes  \n",
       "0         19778              9888  \n",
       "1         21271             10635  \n",
       "2         16279              8139  \n",
       "3         20336              4059  \n",
       "4         20548             10273  \n",
       "5         16962              2492  \n",
       "6         21552             10775  \n",
       "7         21570              5764  \n",
       "8         38787              9381  \n",
       "9         72429            -23514  \n",
       "10        84206            -18178  \n",
       "11        34676             17337  \n",
       "12        29922             14960  \n",
       "13        27278             13638  \n",
       "14        29338             14668  \n",
       "15        36440             18219  \n",
       "16        40291             20145  \n",
       "17        32982             16490  \n",
       "18       157706             66316  \n",
       "19        78555             39277  "
      ]
     },
     "execution_count": 371,
     "metadata": {},
     "output_type": "execute_result"
    }
   ],
   "source": [
    "df.head(20)"
   ]
  },
  {
   "cell_type": "code",
   "execution_count": 372,
   "metadata": {},
   "outputs": [],
   "source": [
    "# Group results by year and state - efficiency gap should be calculated state wide\n",
    "# each row is one state per election cycle\n",
    "\n",
    "df_grouped = df.groupby([\"Year\", \"State\"]).agg({\n",
    "    'District': 'count',\n",
    "    'Dem Votes': 'sum',\n",
    "    'GOP Votes': 'sum',\n",
    "    'Party': 'sum',\n",
    "    'total_votes': 'sum',\n",
    "    'net_wasted_votes': 'sum'\n",
    "    }).reset_index()"
   ]
  },
  {
   "cell_type": "code",
   "execution_count": 373,
   "metadata": {},
   "outputs": [
    {
     "data": {
      "text/html": [
       "<div>\n",
       "<style scoped>\n",
       "    .dataframe tbody tr th:only-of-type {\n",
       "        vertical-align: middle;\n",
       "    }\n",
       "\n",
       "    .dataframe tbody tr th {\n",
       "        vertical-align: top;\n",
       "    }\n",
       "\n",
       "    .dataframe thead th {\n",
       "        text-align: right;\n",
       "    }\n",
       "</style>\n",
       "<table border=\"1\" class=\"dataframe\">\n",
       "  <thead>\n",
       "    <tr style=\"text-align: right;\">\n",
       "      <th></th>\n",
       "      <th>Year</th>\n",
       "      <th>State</th>\n",
       "      <th>District</th>\n",
       "      <th>Dem Votes</th>\n",
       "      <th>GOP Votes</th>\n",
       "      <th>Party</th>\n",
       "      <th>total_votes</th>\n",
       "      <th>net_wasted_votes</th>\n",
       "    </tr>\n",
       "  </thead>\n",
       "  <tbody>\n",
       "    <tr>\n",
       "      <th>0</th>\n",
       "      <td>1948</td>\n",
       "      <td>AL</td>\n",
       "      <td>9</td>\n",
       "      <td>183519</td>\n",
       "      <td>13564</td>\n",
       "      <td>DDDDDDDDD</td>\n",
       "      <td>197083</td>\n",
       "      <td>71406</td>\n",
       "    </tr>\n",
       "    <tr>\n",
       "      <th>1</th>\n",
       "      <td>1948</td>\n",
       "      <td>AR</td>\n",
       "      <td>7</td>\n",
       "      <td>230927</td>\n",
       "      <td>0</td>\n",
       "      <td>DDDDDDD</td>\n",
       "      <td>230927</td>\n",
       "      <td>115457</td>\n",
       "    </tr>\n",
       "    <tr>\n",
       "      <th>2</th>\n",
       "      <td>1948</td>\n",
       "      <td>AZ</td>\n",
       "      <td>2</td>\n",
       "      <td>96631</td>\n",
       "      <td>60004</td>\n",
       "      <td>DD</td>\n",
       "      <td>156635</td>\n",
       "      <td>-41692</td>\n",
       "    </tr>\n",
       "    <tr>\n",
       "      <th>3</th>\n",
       "      <td>1948</td>\n",
       "      <td>CA</td>\n",
       "      <td>23</td>\n",
       "      <td>1351731</td>\n",
       "      <td>1976923</td>\n",
       "      <td>RDRDRDRRDRRRRDRRDDDRDRD</td>\n",
       "      <td>3328654</td>\n",
       "      <td>-453818</td>\n",
       "    </tr>\n",
       "    <tr>\n",
       "      <th>4</th>\n",
       "      <td>1948</td>\n",
       "      <td>CO</td>\n",
       "      <td>4</td>\n",
       "      <td>272484</td>\n",
       "      <td>224927</td>\n",
       "      <td>DRDD</td>\n",
       "      <td>497411</td>\n",
       "      <td>-62703</td>\n",
       "    </tr>\n",
       "  </tbody>\n",
       "</table>\n",
       "</div>"
      ],
      "text/plain": [
       "   Year State  District  Dem Votes  GOP Votes                    Party  \\\n",
       "0  1948    AL         9     183519      13564                DDDDDDDDD   \n",
       "1  1948    AR         7     230927          0                  DDDDDDD   \n",
       "2  1948    AZ         2      96631      60004                       DD   \n",
       "3  1948    CA        23    1351731    1976923  RDRDRDRRDRRRRDRRDDDRDRD   \n",
       "4  1948    CO         4     272484     224927                     DRDD   \n",
       "\n",
       "   total_votes  net_wasted_votes  \n",
       "0       197083             71406  \n",
       "1       230927            115457  \n",
       "2       156635            -41692  \n",
       "3      3328654           -453818  \n",
       "4       497411            -62703  "
      ]
     },
     "execution_count": 373,
     "metadata": {},
     "output_type": "execute_result"
    }
   ],
   "source": [
    "df_grouped.head()"
   ]
  },
  {
   "cell_type": "code",
   "execution_count": 374,
   "metadata": {},
   "outputs": [],
   "source": [
    "df_grouped[\"efficiency_gap\"] = round(df_grouped[\"net_wasted_votes\"] / df_grouped[\"total_votes\"], 2)"
   ]
  },
  {
   "cell_type": "code",
   "execution_count": 375,
   "metadata": {},
   "outputs": [],
   "source": [
    "df_grouped[\"D Voteshare\"] = round((df_grouped[\"Dem Votes\"] / df_grouped[\"total_votes\"]), 2)"
   ]
  },
  {
   "cell_type": "code",
   "execution_count": 376,
   "metadata": {},
   "outputs": [],
   "source": [
    "df_grouped[\"D Seatshare\"] = df_grouped[\"Party\"].apply(lambda x: round(x.count(\"D\") / len(x), 2))"
   ]
  },
  {
   "cell_type": "code",
   "execution_count": 377,
   "metadata": {},
   "outputs": [],
   "source": [
    "df_grouped = df_grouped.drop(columns=\"Party\")"
   ]
  },
  {
   "cell_type": "code",
   "execution_count": 378,
   "metadata": {},
   "outputs": [
    {
     "data": {
      "text/html": [
       "<div>\n",
       "<style scoped>\n",
       "    .dataframe tbody tr th:only-of-type {\n",
       "        vertical-align: middle;\n",
       "    }\n",
       "\n",
       "    .dataframe tbody tr th {\n",
       "        vertical-align: top;\n",
       "    }\n",
       "\n",
       "    .dataframe thead th {\n",
       "        text-align: right;\n",
       "    }\n",
       "</style>\n",
       "<table border=\"1\" class=\"dataframe\">\n",
       "  <thead>\n",
       "    <tr style=\"text-align: right;\">\n",
       "      <th></th>\n",
       "      <th>Year</th>\n",
       "      <th>State</th>\n",
       "      <th>District</th>\n",
       "      <th>Dem Votes</th>\n",
       "      <th>GOP Votes</th>\n",
       "      <th>total_votes</th>\n",
       "      <th>net_wasted_votes</th>\n",
       "      <th>efficiency_gap</th>\n",
       "      <th>D Voteshare</th>\n",
       "      <th>D Seatshare</th>\n",
       "    </tr>\n",
       "  </thead>\n",
       "  <tbody>\n",
       "    <tr>\n",
       "      <th>0</th>\n",
       "      <td>1948</td>\n",
       "      <td>AL</td>\n",
       "      <td>9</td>\n",
       "      <td>183519</td>\n",
       "      <td>13564</td>\n",
       "      <td>197083</td>\n",
       "      <td>71406</td>\n",
       "      <td>0.36</td>\n",
       "      <td>0.93</td>\n",
       "      <td>1.00</td>\n",
       "    </tr>\n",
       "    <tr>\n",
       "      <th>1</th>\n",
       "      <td>1948</td>\n",
       "      <td>AR</td>\n",
       "      <td>7</td>\n",
       "      <td>230927</td>\n",
       "      <td>0</td>\n",
       "      <td>230927</td>\n",
       "      <td>115457</td>\n",
       "      <td>0.50</td>\n",
       "      <td>1.00</td>\n",
       "      <td>1.00</td>\n",
       "    </tr>\n",
       "    <tr>\n",
       "      <th>2</th>\n",
       "      <td>1948</td>\n",
       "      <td>AZ</td>\n",
       "      <td>2</td>\n",
       "      <td>96631</td>\n",
       "      <td>60004</td>\n",
       "      <td>156635</td>\n",
       "      <td>-41692</td>\n",
       "      <td>-0.27</td>\n",
       "      <td>0.62</td>\n",
       "      <td>1.00</td>\n",
       "    </tr>\n",
       "    <tr>\n",
       "      <th>3</th>\n",
       "      <td>1948</td>\n",
       "      <td>CA</td>\n",
       "      <td>23</td>\n",
       "      <td>1351731</td>\n",
       "      <td>1976923</td>\n",
       "      <td>3328654</td>\n",
       "      <td>-453818</td>\n",
       "      <td>-0.14</td>\n",
       "      <td>0.41</td>\n",
       "      <td>0.43</td>\n",
       "    </tr>\n",
       "    <tr>\n",
       "      <th>4</th>\n",
       "      <td>1948</td>\n",
       "      <td>CO</td>\n",
       "      <td>4</td>\n",
       "      <td>272484</td>\n",
       "      <td>224927</td>\n",
       "      <td>497411</td>\n",
       "      <td>-62703</td>\n",
       "      <td>-0.13</td>\n",
       "      <td>0.55</td>\n",
       "      <td>0.75</td>\n",
       "    </tr>\n",
       "  </tbody>\n",
       "</table>\n",
       "</div>"
      ],
      "text/plain": [
       "   Year State  District  Dem Votes  GOP Votes  total_votes  net_wasted_votes  \\\n",
       "0  1948    AL         9     183519      13564       197083             71406   \n",
       "1  1948    AR         7     230927          0       230927            115457   \n",
       "2  1948    AZ         2      96631      60004       156635            -41692   \n",
       "3  1948    CA        23    1351731    1976923      3328654           -453818   \n",
       "4  1948    CO         4     272484     224927       497411            -62703   \n",
       "\n",
       "   efficiency_gap  D Voteshare  D Seatshare  \n",
       "0            0.36         0.93         1.00  \n",
       "1            0.50         1.00         1.00  \n",
       "2           -0.27         0.62         1.00  \n",
       "3           -0.14         0.41         0.43  \n",
       "4           -0.13         0.55         0.75  "
      ]
     },
     "execution_count": 378,
     "metadata": {},
     "output_type": "execute_result"
    }
   ],
   "source": [
    "df_grouped.head()"
   ]
  },
  {
   "cell_type": "markdown",
   "metadata": {},
   "source": [
    "**Positive efficiency gap = better for republicans, negative efficiency gap = better for democrats**\n",
    "\n",
    "Positive efficiency gap values benefit republicans (lots of net wasted democrat votes), and vice versa"
   ]
  },
  {
   "cell_type": "code",
   "execution_count": 379,
   "metadata": {},
   "outputs": [
    {
     "data": {
      "text/plain": [
       "(1483, 10)"
      ]
     },
     "execution_count": 379,
     "metadata": {},
     "output_type": "execute_result"
    }
   ],
   "source": [
    "# All voting competitions without empty seats (non-unanimous voting)\n",
    "df_non_empty = df_grouped[(df_grouped[\"Dem Votes\"] != 0) & (df_grouped[\"GOP Votes\"] != 0)]\n",
    "\n",
    "# Remove remaining single-district states - cannot be gerrymandered\n",
    "df_non_empty = df_non_empty[df_non_empty[\"District\"] > 1]\n",
    "\n",
    "df_non_empty.shape"
   ]
  },
  {
   "cell_type": "code",
   "execution_count": 380,
   "metadata": {},
   "outputs": [
    {
     "data": {
      "text/html": [
       "<div>\n",
       "<style scoped>\n",
       "    .dataframe tbody tr th:only-of-type {\n",
       "        vertical-align: middle;\n",
       "    }\n",
       "\n",
       "    .dataframe tbody tr th {\n",
       "        vertical-align: top;\n",
       "    }\n",
       "\n",
       "    .dataframe thead th {\n",
       "        text-align: right;\n",
       "    }\n",
       "</style>\n",
       "<table border=\"1\" class=\"dataframe\">\n",
       "  <thead>\n",
       "    <tr style=\"text-align: right;\">\n",
       "      <th></th>\n",
       "      <th>Year</th>\n",
       "      <th>State</th>\n",
       "      <th>District</th>\n",
       "      <th>Dem Votes</th>\n",
       "      <th>GOP Votes</th>\n",
       "      <th>total_votes</th>\n",
       "      <th>net_wasted_votes</th>\n",
       "      <th>efficiency_gap</th>\n",
       "      <th>D Voteshare</th>\n",
       "      <th>D Seatshare</th>\n",
       "    </tr>\n",
       "  </thead>\n",
       "  <tbody>\n",
       "    <tr>\n",
       "      <th>297</th>\n",
       "      <td>1960</td>\n",
       "      <td>UT</td>\n",
       "      <td>2</td>\n",
       "      <td>186710</td>\n",
       "      <td>182752</td>\n",
       "      <td>369462</td>\n",
       "      <td>-180775</td>\n",
       "      <td>-0.49</td>\n",
       "      <td>0.51</td>\n",
       "      <td>1.00</td>\n",
       "    </tr>\n",
       "    <tr>\n",
       "      <th>1123</th>\n",
       "      <td>1998</td>\n",
       "      <td>NV</td>\n",
       "      <td>2</td>\n",
       "      <td>79315</td>\n",
       "      <td>275163</td>\n",
       "      <td>354478</td>\n",
       "      <td>-171464</td>\n",
       "      <td>-0.48</td>\n",
       "      <td>0.22</td>\n",
       "      <td>0.50</td>\n",
       "    </tr>\n",
       "    <tr>\n",
       "      <th>1516</th>\n",
       "      <td>2016</td>\n",
       "      <td>NH</td>\n",
       "      <td>2</td>\n",
       "      <td>336214</td>\n",
       "      <td>315971</td>\n",
       "      <td>652185</td>\n",
       "      <td>-305851</td>\n",
       "      <td>-0.47</td>\n",
       "      <td>0.52</td>\n",
       "      <td>1.00</td>\n",
       "    </tr>\n",
       "    <tr>\n",
       "      <th>113</th>\n",
       "      <td>1952</td>\n",
       "      <td>NM</td>\n",
       "      <td>2</td>\n",
       "      <td>241402</td>\n",
       "      <td>221892</td>\n",
       "      <td>463294</td>\n",
       "      <td>-212139</td>\n",
       "      <td>-0.46</td>\n",
       "      <td>0.52</td>\n",
       "      <td>1.00</td>\n",
       "    </tr>\n",
       "    <tr>\n",
       "      <th>1428</th>\n",
       "      <td>2012</td>\n",
       "      <td>NH</td>\n",
       "      <td>2</td>\n",
       "      <td>340925</td>\n",
       "      <td>311636</td>\n",
       "      <td>652561</td>\n",
       "      <td>-296993</td>\n",
       "      <td>-0.46</td>\n",
       "      <td>0.52</td>\n",
       "      <td>1.00</td>\n",
       "    </tr>\n",
       "    <tr>\n",
       "      <th>...</th>\n",
       "      <td>...</td>\n",
       "      <td>...</td>\n",
       "      <td>...</td>\n",
       "      <td>...</td>\n",
       "      <td>...</td>\n",
       "      <td>...</td>\n",
       "      <td>...</td>\n",
       "      <td>...</td>\n",
       "      <td>...</td>\n",
       "      <td>...</td>\n",
       "    </tr>\n",
       "    <tr>\n",
       "      <th>368</th>\n",
       "      <td>1964</td>\n",
       "      <td>MS</td>\n",
       "      <td>5</td>\n",
       "      <td>325950</td>\n",
       "      <td>35277</td>\n",
       "      <td>361227</td>\n",
       "      <td>173391</td>\n",
       "      <td>0.48</td>\n",
       "      <td>0.90</td>\n",
       "      <td>0.80</td>\n",
       "    </tr>\n",
       "    <tr>\n",
       "      <th>1109</th>\n",
       "      <td>1998</td>\n",
       "      <td>LA</td>\n",
       "      <td>7</td>\n",
       "      <td>94203</td>\n",
       "      <td>97048</td>\n",
       "      <td>191251</td>\n",
       "      <td>92780</td>\n",
       "      <td>0.49</td>\n",
       "      <td>0.49</td>\n",
       "      <td>0.29</td>\n",
       "    </tr>\n",
       "    <tr>\n",
       "      <th>1181</th>\n",
       "      <td>2000</td>\n",
       "      <td>WV</td>\n",
       "      <td>3</td>\n",
       "      <td>420784</td>\n",
       "      <td>108769</td>\n",
       "      <td>529553</td>\n",
       "      <td>259010</td>\n",
       "      <td>0.49</td>\n",
       "      <td>0.79</td>\n",
       "      <td>0.67</td>\n",
       "    </tr>\n",
       "    <tr>\n",
       "      <th>43</th>\n",
       "      <td>1950</td>\n",
       "      <td>AL</td>\n",
       "      <td>9</td>\n",
       "      <td>151212</td>\n",
       "      <td>980</td>\n",
       "      <td>152192</td>\n",
       "      <td>74129</td>\n",
       "      <td>0.49</td>\n",
       "      <td>0.99</td>\n",
       "      <td>1.00</td>\n",
       "    </tr>\n",
       "    <tr>\n",
       "      <th>123</th>\n",
       "      <td>1952</td>\n",
       "      <td>TX</td>\n",
       "      <td>22</td>\n",
       "      <td>3677104</td>\n",
       "      <td>22108</td>\n",
       "      <td>3699212</td>\n",
       "      <td>1805373</td>\n",
       "      <td>0.49</td>\n",
       "      <td>0.99</td>\n",
       "      <td>1.00</td>\n",
       "    </tr>\n",
       "  </tbody>\n",
       "</table>\n",
       "<p>1483 rows × 10 columns</p>\n",
       "</div>"
      ],
      "text/plain": [
       "      Year State  District  Dem Votes  GOP Votes  total_votes  \\\n",
       "297   1960    UT         2     186710     182752       369462   \n",
       "1123  1998    NV         2      79315     275163       354478   \n",
       "1516  2016    NH         2     336214     315971       652185   \n",
       "113   1952    NM         2     241402     221892       463294   \n",
       "1428  2012    NH         2     340925     311636       652561   \n",
       "...    ...   ...       ...        ...        ...          ...   \n",
       "368   1964    MS         5     325950      35277       361227   \n",
       "1109  1998    LA         7      94203      97048       191251   \n",
       "1181  2000    WV         3     420784     108769       529553   \n",
       "43    1950    AL         9     151212        980       152192   \n",
       "123   1952    TX        22    3677104      22108      3699212   \n",
       "\n",
       "      net_wasted_votes  efficiency_gap  D Voteshare  D Seatshare  \n",
       "297            -180775           -0.49         0.51         1.00  \n",
       "1123           -171464           -0.48         0.22         0.50  \n",
       "1516           -305851           -0.47         0.52         1.00  \n",
       "113            -212139           -0.46         0.52         1.00  \n",
       "1428           -296993           -0.46         0.52         1.00  \n",
       "...                ...             ...          ...          ...  \n",
       "368             173391            0.48         0.90         0.80  \n",
       "1109             92780            0.49         0.49         0.29  \n",
       "1181            259010            0.49         0.79         0.67  \n",
       "43               74129            0.49         0.99         1.00  \n",
       "123            1805373            0.49         0.99         1.00  \n",
       "\n",
       "[1483 rows x 10 columns]"
      ]
     },
     "execution_count": 380,
     "metadata": {},
     "output_type": "execute_result"
    }
   ],
   "source": [
    "# Large effiency gap values in both directions indicate either \"overkill\" winning (packing) or close loss (cracking)\n",
    "df_non_empty.sort_values(by=\"efficiency_gap\")"
   ]
  },
  {
   "cell_type": "markdown",
   "metadata": {},
   "source": [
    "Stephanopoulos and McGhee argue that 7% is the threshold for the efficiency gap metric - values higher in magnitude in either direction mean that the state is gerrymandered."
   ]
  },
  {
   "cell_type": "code",
   "execution_count": 381,
   "metadata": {},
   "outputs": [
    {
     "name": "stdout",
     "output_type": "stream",
     "text": [
      " Percent of states gerrymandered: 62.2%\n",
      " Percent of states gerrymandered in favor of Republicans: 39.4%\n",
      " Percent of states gerrymandered in favor of Democrats: 22.7%\n"
     ]
    }
   ],
   "source": [
    "pct_gerrymandered = df_non_empty[(df_non_empty[\"efficiency_gap\"] < -0.07) | (df_non_empty[\"efficiency_gap\"] > 0.07)].shape[0] / df_non_empty.shape[0]\n",
    "pct_gerrymandered_rep = df_non_empty[(df_non_empty[\"efficiency_gap\"] > 0.07)].shape[0] / df_non_empty.shape[0]\n",
    "pct_gerrymandered_dem = df_non_empty[(df_non_empty[\"efficiency_gap\"] < -0.07)].shape[0] / df_non_empty.shape[0]\n",
    "\n",
    "\n",
    "print(f\" Percent of states gerrymandered: {round(pct_gerrymandered, 3) * 100}%\")\n",
    "print(f\" Percent of states gerrymandered in favor of Republicans: {round(pct_gerrymandered_rep, 3) * 100}%\")\n",
    "print(f\" Percent of states gerrymandered in favor of Democrats: {round(pct_gerrymandered_dem, 3) * 100}%\")"
   ]
  },
  {
   "cell_type": "code",
   "execution_count": 382,
   "metadata": {},
   "outputs": [
    {
     "data": {
      "text/plain": [
       "Text(0.5, 1.0, 'Bidirectional Efficiency Gap Histogram')"
      ]
     },
     "execution_count": 382,
     "metadata": {},
     "output_type": "execute_result"
    },
    {
     "data": {
      "image/png": "[encoded data removed]",
      "text/plain": [
       "<Figure size 640x480 with 1 Axes>"
      ]
     },
     "metadata": {},
     "output_type": "display_data"
    }
   ],
   "source": [
    "# Shading\n",
    "plt.axvline(x=0.07)\n",
    "plt.axvline(x=-0.07)\n",
    "plt.axvspan(xmin=0.07, xmax=0.5, facecolor='#e3e3e1')\n",
    "plt.axvspan(xmin=-0.5, xmax=-0.05, facecolor='#e3e3e1')\n",
    "\n",
    "# Plot\n",
    "sns.set_style('ticks')\n",
    "g = sns.histplot(data=df_non_empty, x=\"efficiency_gap\", binwidth=0.02, kde=True)\n",
    "g.set_title(\"Bidirectional Efficiency Gap Histogram\")\n",
    "\n",
    "# Gridlines\n",
    "# plt.grid()"
   ]
  },
  {
   "cell_type": "markdown",
   "metadata": {},
   "source": [
    "## 2. Match maps to election return data for each district."
   ]
  },
  {
   "cell_type": "code",
   "execution_count": 5,
   "metadata": {},
   "outputs": [],
   "source": [
    "gdf = gpd.read_file(\"data/Precinct Shapes & Vote Results (election-geodata)/nation.gpkg\")"
   ]
  },
  {
   "cell_type": "code",
   "execution_count": 8,
   "metadata": {},
   "outputs": [
    {
     "data": {
      "text/plain": [
       "year\n",
       "2016    115686\n",
       "2010     50269\n",
       "2014      7428\n",
       "2012      6688\n",
       "2017      5427\n",
       "2013      2155\n",
       "2011      1856\n",
       "2018      1750\n",
       "Name: count, dtype: int64"
      ]
     },
     "execution_count": 8,
     "metadata": {},
     "output_type": "execute_result"
    }
   ],
   "source": [
    "gdf[\"year\"].value_counts()"
   ]
  },
  {
   "cell_type": "code",
   "execution_count": 14,
   "metadata": {},
   "outputs": [],
   "source": [
    "gdf_2016 = gdf[gdf[\"year\"] == \"2016\"]"
   ]
  },
  {
   "cell_type": "code",
   "execution_count": 19,
   "metadata": {},
   "outputs": [
    {
     "data": {
      "text/plain": [
       "<Axes: >"
      ]
     },
     "execution_count": 19,
     "metadata": {},
     "output_type": "execute_result"
    },
    {
     "data": {
      "image/png": "[encoded data removed]",
      "text/plain": [
       "<Figure size 640x480 with 1 Axes>"
      ]
     },
     "metadata": {},
     "output_type": "display_data"
    }
   ],
   "source": [
    "gdf_2016.plot()"
   ]
  },
  {
   "cell_type": "markdown",
   "metadata": {},
   "source": [
    "Removing based on State FIPS (using reference from [US BLS](https://www.bls.gov/respondents/mwr/electronic-data-interchange/appendix-d-usps-state-abbreviations-and-fips-codes.htm))"
   ]
  },
  {
   "cell_type": "code",
   "execution_count": 59,
   "metadata": {},
   "outputs": [
    {
     "data": {
      "text/plain": [
       "Index(['01', '04', '05', '06', '08', '09', '10', '11', '12', '13', '16', '17',\n",
       "       '18', '19', '20', '21', '22', '23', '24', '25', '26', '27', '28', '29',\n",
       "       '30', '31', '32', '33', '34', '35', '36', '37', '38', '39', '40', '41',\n",
       "       '42', '44', '45', '46', '47', '48', '49', '50', '51', '53', '54', '55',\n",
       "       '56'],\n",
       "      dtype='object', name='STATEFP20')"
      ]
     },
     "execution_count": 59,
     "metadata": {},
     "output_type": "execute_result"
    }
   ],
   "source": [
    "# Removing all non-state territories with no right to vote (FIPS code > 56) \n",
    "# Removing six states with only one district - these states cannot be gerrymandered\n",
    "removal_fips = ['02', '10', '38', '46', '50', '56', '60', '66', '69', '72', '78'] \n",
    "\n",
    "gov_gdf = gov_gdf[~gov_gdf[\"STATEFP20\"].isin(removal_fips)]\n",
    "\n",
    "# Check for remaining states\n",
    "gov_gdf[~gov_gdf[\"STATEFP20\"].isin(removal_fips)][\"STATEFP20\"].value_counts().index.sort_values()"
   ]
  },
  {
   "cell_type": "code",
   "execution_count": 60,
   "metadata": {},
   "outputs": [
    {
     "data": {
      "text/plain": [
       "<Axes: >"
      ]
     },
     "execution_count": 60,
     "metadata": {},
     "output_type": "execute_result"
    },
    {
     "data": {
      "image/png": "[encoded data removed]",
      "text/plain": [
       "<Figure size 640x480 with 1 Axes>"
      ]
     },
     "metadata": {},
     "output_type": "display_data"
    }
   ],
   "source": [
    "gov_gdf.plot()"
   ]
  },
  {
   "cell_type": "code",
   "execution_count": 49,
   "metadata": {},
   "outputs": [
    {
     "data": {
      "text/plain": [
       "Index(['01', '02', '04', '05', '06', '08', '09', '10', '11', '12', '13', '16',\n",
       "       '17', '18', '19', '20', '21', '22', '23', '24', '25', '26', '27', '28',\n",
       "       '29', '30', '31', '32', '33', '34', '35', '36', '37', '38', '39', '40',\n",
       "       '41', '42', '44', '45', '46', '47', '48', '49', '50', '51', '53', '54',\n",
       "       '55', '56'],\n",
       "      dtype='object', name='STATEFP20')"
      ]
     },
     "execution_count": 49,
     "metadata": {},
     "output_type": "execute_result"
    }
   ],
   "source": [
    "gov_gdf[~gov_gdf[\"STATEFP20\"].isin(external_state_fips)][\"STATEFP20\"].value_counts().index.sort_values()"
   ]
  },
  {
   "cell_type": "code",
   "execution_count": 57,
   "metadata": {},
   "outputs": [
    {
     "data": {
      "text/html": [
       "<div>\n",
       "<style scoped>\n",
       "    .dataframe tbody tr th:only-of-type {\n",
       "        vertical-align: middle;\n",
       "    }\n",
       "\n",
       "    .dataframe tbody tr th {\n",
       "        vertical-align: top;\n",
       "    }\n",
       "\n",
       "    .dataframe thead th {\n",
       "        text-align: right;\n",
       "    }\n",
       "</style>\n",
       "<table border=\"1\" class=\"dataframe\">\n",
       "  <thead>\n",
       "    <tr style=\"text-align: right;\">\n",
       "      <th></th>\n",
       "      <th>STATEFP20</th>\n",
       "      <th>GEOID20</th>\n",
       "      <th>CD118FP</th>\n",
       "      <th>NAMELSAD20</th>\n",
       "      <th>LSAD20</th>\n",
       "      <th>CDSESSN</th>\n",
       "      <th>MTFCC20</th>\n",
       "      <th>FUNCSTAT20</th>\n",
       "      <th>ALAND20</th>\n",
       "      <th>AWATER20</th>\n",
       "      <th>...</th>\n",
       "      <th>FLICKR_URL</th>\n",
       "      <th>PARTY</th>\n",
       "      <th>DISTRICT</th>\n",
       "      <th>STATE</th>\n",
       "      <th>VACANCY</th>\n",
       "      <th>ROOM_NUM</th>\n",
       "      <th>HOB</th>\n",
       "      <th>COMMITTEE_ASSIGNMENTS</th>\n",
       "      <th>LAST_UPDATED</th>\n",
       "      <th>geometry</th>\n",
       "    </tr>\n",
       "  </thead>\n",
       "  <tbody>\n",
       "    <tr>\n",
       "      <th>7</th>\n",
       "      <td>02</td>\n",
       "      <td>0200</td>\n",
       "      <td>00</td>\n",
       "      <td>Congressional District (at Large)</td>\n",
       "      <td>C1</td>\n",
       "      <td>118</td>\n",
       "      <td>G5200</td>\n",
       "      <td>N</td>\n",
       "      <td>1.478941e+12</td>\n",
       "      <td>2.453802e+11</td>\n",
       "      <td>...</td>\n",
       "      <td></td>\n",
       "      <td>D</td>\n",
       "      <td>00</td>\n",
       "      <td></td>\n",
       "      <td>0.0</td>\n",
       "      <td>153.0</td>\n",
       "      <td>CHOB</td>\n",
       "      <td>Natural Resources;Transportation</td>\n",
       "      <td>2023-04-18 09:36:37+00:00</td>\n",
       "      <td>MULTIPOLYGON (((-168.23154 65.62624, -168.2318...</td>\n",
       "    </tr>\n",
       "  </tbody>\n",
       "</table>\n",
       "<p>1 rows × 40 columns</p>\n",
       "</div>"
      ],
      "text/plain": [
       "  STATEFP20 GEOID20 CD118FP                         NAMELSAD20 LSAD20 CDSESSN  \\\n",
       "7        02    0200      00  Congressional District (at Large)     C1     118   \n",
       "\n",
       "  MTFCC20 FUNCSTAT20       ALAND20      AWATER20  ... FLICKR_URL PARTY  \\\n",
       "7   G5200          N  1.478941e+12  2.453802e+11  ...                D   \n",
       "\n",
       "  DISTRICT STATE VACANCY ROOM_NUM   HOB             COMMITTEE_ASSIGNMENTS  \\\n",
       "7       00           0.0    153.0  CHOB  Natural Resources;Transportation   \n",
       "\n",
       "               LAST_UPDATED                                           geometry  \n",
       "7 2023-04-18 09:36:37+00:00  MULTIPOLYGON (((-168.23154 65.62624, -168.2318...  \n",
       "\n",
       "[1 rows x 40 columns]"
      ]
     },
     "execution_count": 57,
     "metadata": {},
     "output_type": "execute_result"
    }
   ],
   "source": [
    "gov_gdf[gov_gdf[\"STATEFP20\"] == '02']"
   ]
  },
  {
   "cell_type": "code",
   "execution_count": null,
   "metadata": {},
   "outputs": [],
   "source": []
  }
 ],
 "metadata": {
  "kernelspec": {
   "display_name": "Python 3",
   "language": "python",
   "name": "python3"
  },
  "language_info": {
   "codemirror_mode": {
    "name": "ipython",
    "version": 3
   },
   "file_extension": ".py",
   "mimetype": "text/x-python",
   "name": "python",
   "nbconvert_exporter": "python",
   "pygments_lexer": "ipython3",
   "version": "3.11.4"
  }
 },
 "nbformat": 4,
 "nbformat_minor": 2
}
